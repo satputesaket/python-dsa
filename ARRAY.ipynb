{
 "cells": [
  {
   "cell_type": "markdown",
   "id": "224cf51a",
   "metadata": {},
   "source": [
    "\n",
    "### 1. Two number sum\n",
    "Given an array of integers nums and an integer target, return indices of the two numbers such that they add up to target.\n",
    "\n",
    "You may assume that each input would have exactly one solution, and you may not use the same element twice.\n",
    "\n",
    "You can return the answer in any order.\n"
   ]
  },
  {
   "cell_type": "code",
   "execution_count": 4,
   "id": "74a7be7a",
   "metadata": {},
   "outputs": [],
   "source": [
    "\n",
    "# SOL 1\n",
    "def twoNumberSum(array, targetSum):\n",
    "    # Write your code here.\n",
    "    for i in range(len(array)):\n",
    "        for j in range(1,len(array)):\n",
    "            sum1= array[i] + array[j]\n",
    "            if sum1 == targetSum and i!=j :\n",
    "                return [array[i],array[j]]\n",
    "    return []\n",
    "\n",
    "#SOL 2\n",
    "def twoNumberSum2(array, targetSum):\n",
    "    # Write your code here.\n",
    "    hashmap = {}\n",
    "    for i in array:\n",
    "        temp = targetSum-i\n",
    "        if temp in hashmap:\n",
    "            return [temp,i]\n",
    "        else:\n",
    "            hashmap[i]=True\n",
    "    return []\n",
    "#SOL 3\n",
    "def twoNumberSum3(array, targetSum):\n",
    "    # Write your code here.\n",
    "    array.sort()\n",
    "    leftIdx = 0\n",
    "    rightIdx = len(array) - 1\n",
    "    while leftIdx < rightIdx:\n",
    "        currentSum = array[leftIdx] + array[rightIdx]\n",
    "        if currentSum == targetSum:\n",
    "            return [array[leftIdx],array[rightIdx]]\n",
    "        elif currentSum < targetSum:\n",
    "            leftIdx +=1\n",
    "        elif currentSum > targetSum:\n",
    "            rightIdx -=1\n",
    "    return[]"
   ]
  },
  {
   "cell_type": "code",
   "execution_count": 5,
   "id": "51e0f545",
   "metadata": {},
   "outputs": [
    {
     "name": "stdout",
     "output_type": "stream",
     "text": [
      "[8, 9]\n",
      "[8, 9]\n",
      "[8, 9]\n"
     ]
    }
   ],
   "source": [
    "#TestCODE\n",
    "\n",
    "inputData = {\n",
    "  \"array\": [1, 2, 3, 4, 5, 6, 7, 8, 9],\n",
    "  \"targetSum\": 17\n",
    "}\n",
    "\n",
    "print(twoNumberSum(inputData[\"array\"],inputData[\"targetSum\"]))\n",
    "\n",
    "print(twoNumberSum2(inputData[\"array\"],inputData[\"targetSum\"]))\n",
    "\n",
    "print(twoNumberSum3(inputData[\"array\"],inputData[\"targetSum\"]))"
   ]
  },
  {
   "cell_type": "markdown",
   "id": "68288ebb",
   "metadata": {},
   "source": [
    "### validate subsequence  \n",
    "\n",
    "Validate if the second array subsequence of the first array\n"
   ]
  },
  {
   "cell_type": "code",
   "execution_count": 10,
   "id": "61bde44e",
   "metadata": {},
   "outputs": [],
   "source": [
    "def isValidateSubsequence(array,sequence):\n",
    "    seqIdx=0\n",
    "    for value in array:\n",
    "        if seqIdx==len(array):\n",
    "            break\n",
    "        if sequence[seqIdx]==value:\n",
    "            seqIdx +=1\n",
    "    return seqIdx == len(sequence)\n",
    "        \n",
    "        \n",
    "        "
   ]
  },
  {
   "cell_type": "code",
   "execution_count": 11,
   "id": "d5e14983",
   "metadata": {},
   "outputs": [
    {
     "name": "stdout",
     "output_type": "stream",
     "text": [
      "True\n"
     ]
    }
   ],
   "source": [
    "inputData = {\n",
    "  \"array\": [5, 1, 22, 25, 6, -1, 8, 10],\n",
    "  \"sequence\": [1, 6, -1, 10]\n",
    "}\n",
    "\n",
    "print(isValidateSubsequence(inputData[\"array\"],inputData[\"sequence\"]))"
   ]
  },
  {
   "cell_type": "markdown",
   "id": "ba5db103",
   "metadata": {},
   "source": [
    "### sorted square array"
   ]
  },
  {
   "cell_type": "code",
   "execution_count": 12,
   "id": "1a6cc3dd",
   "metadata": {},
   "outputs": [],
   "source": [
    "def sortedSquaredArray(array):\n",
    "    return sorted([i*i for i in array])"
   ]
  },
  {
   "cell_type": "code",
   "execution_count": 15,
   "id": "ba169bf0",
   "metadata": {},
   "outputs": [
    {
     "name": "stdout",
     "output_type": "stream",
     "text": [
      "[1, 4, 9, 25, 36, 64, 81]\n"
     ]
    }
   ],
   "source": [
    "inputData={\n",
    "  \"array\": [1, 2, 3, 5, 6, 8, 9]\n",
    "}\n",
    "\n",
    "print(sortedSquaredArray(inputData[\"array\"]))"
   ]
  },
  {
   "cell_type": "markdown",
   "id": "d42ba2ac",
   "metadata": {},
   "source": [
    "### TOURNAMENT WINNER"
   ]
  },
  {
   "cell_type": "code",
   "execution_count": 1,
   "id": "8ac76249",
   "metadata": {},
   "outputs": [],
   "source": [
    "def tournamentWinner(competitions, results):\n",
    "    # Write your code here.\n",
    "    winner = \"\"\n",
    "    tournament = {}\n",
    "    for idx in range(len(results)):\n",
    "        if results[idx]==0:\n",
    "            winner = competitions[idx][1]\n",
    "        else:\n",
    "            winner = competitions[idx][0]\n",
    "\n",
    "        if winner in tournament.keys():\n",
    "            tournament[winner]= tournament[winner] + 3\n",
    "        else:\n",
    "            tournament[winner] = 3\n",
    "\n",
    "    new_value = max(tournament, key=tournament.get)\n",
    "\n",
    "    return new_value\n"
   ]
  },
  {
   "cell_type": "code",
   "execution_count": 2,
   "id": "57c52aa5",
   "metadata": {},
   "outputs": [
    {
     "name": "stdout",
     "output_type": "stream",
     "text": [
      "Python\n"
     ]
    }
   ],
   "source": [
    "inputData = {\n",
    "  \"competitions\": [\n",
    "    [\"HTML\", \"C#\"],\n",
    "    [\"C#\", \"Python\"],\n",
    "    [\"Python\", \"HTML\"]\n",
    "  ],\n",
    "  \"results\": [0, 0, 1]\n",
    "}\n",
    "\n",
    "print(tournamentWinner(inputData[\"competitions\"],inputData[\"results\"]))"
   ]
  },
  {
   "cell_type": "code",
   "execution_count": null,
   "id": "30de87c9",
   "metadata": {},
   "outputs": [],
   "source": []
  }
 ],
 "metadata": {
  "kernelspec": {
   "display_name": "Python 3 (ipykernel)",
   "language": "python",
   "name": "python3"
  },
  "language_info": {
   "codemirror_mode": {
    "name": "ipython",
    "version": 3
   },
   "file_extension": ".py",
   "mimetype": "text/x-python",
   "name": "python",
   "nbconvert_exporter": "python",
   "pygments_lexer": "ipython3",
   "version": "3.9.12"
  }
 },
 "nbformat": 4,
 "nbformat_minor": 5
}
