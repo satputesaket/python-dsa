{
 "cells": [
  {
   "cell_type": "markdown",
   "id": "4e36ea42",
   "metadata": {},
   "source": [
    "\n",
    "### 1. Two number sum\n",
    "Given an array of integers nums and an integer target, return indices of the two numbers such that they add up to target.\n",
    "\n",
    "You may assume that each input would have exactly one solution, and you may not use the same element twice.\n",
    "\n",
    "You can return the answer in any order.\n"
   ]
  },
  {
   "cell_type": "code",
   "execution_count": 4,
   "id": "4494ab1f",
   "metadata": {},
   "outputs": [],
   "source": [
    "\n",
    "# SOL 1\n",
    "def twoNumberSum(array, targetSum):\n",
    "    # Write your code here.\n",
    "    for i in range(len(array)):\n",
    "        for j in range(1,len(array)):\n",
    "            sum1= array[i] + array[j]\n",
    "            if sum1 == targetSum and i!=j :\n",
    "                return [array[i],array[j]]\n",
    "    return []\n",
    "\n",
    "#SOL 2\n",
    "def twoNumberSum2(array, targetSum):\n",
    "    # Write your code here.\n",
    "    hashmap = {}\n",
    "    for i in array:\n",
    "        temp = targetSum-i\n",
    "        if temp in hashmap:\n",
    "            return [temp,i]\n",
    "        else:\n",
    "            hashmap[i]=True\n",
    "    return []\n",
    "#SOL 3\n",
    "def twoNumberSum3(array, targetSum):\n",
    "    # Write your code here.\n",
    "    array.sort()\n",
    "    leftIdx = 0\n",
    "    rightIdx = len(array) - 1\n",
    "    while leftIdx < rightIdx:\n",
    "        currentSum = array[leftIdx] + array[rightIdx]\n",
    "        if currentSum == targetSum:\n",
    "            return [array[leftIdx],array[rightIdx]]\n",
    "        elif currentSum < targetSum:\n",
    "            leftIdx +=1\n",
    "        elif currentSum > targetSum:\n",
    "            rightIdx -=1\n",
    "    return[]"
   ]
  },
  {
   "cell_type": "code",
   "execution_count": 5,
   "id": "ceaa7154",
   "metadata": {},
   "outputs": [
    {
     "name": "stdout",
     "output_type": "stream",
     "text": [
      "[8, 9]\n",
      "[8, 9]\n",
      "[8, 9]\n"
     ]
    }
   ],
   "source": [
    "#TestCODE\n",
    "\n",
    "inputData = {\n",
    "  \"array\": [1, 2, 3, 4, 5, 6, 7, 8, 9],\n",
    "  \"targetSum\": 17\n",
    "}\n",
    "\n",
    "print(twoNumberSum(inputData[\"array\"],inputData[\"targetSum\"]))\n",
    "\n",
    "print(twoNumberSum2(inputData[\"array\"],inputData[\"targetSum\"]))\n",
    "\n",
    "print(twoNumberSum3(inputData[\"array\"],inputData[\"targetSum\"]))"
   ]
  },
  {
   "cell_type": "code",
   "execution_count": null,
   "id": "5335ee1e",
   "metadata": {},
   "outputs": [],
   "source": []
  }
 ],
 "metadata": {
  "kernelspec": {
   "display_name": "Python 3",
   "language": "python",
   "name": "python3"
  },
  "language_info": {
   "codemirror_mode": {
    "name": "ipython",
    "version": 3
   },
   "file_extension": ".py",
   "mimetype": "text/x-python",
   "name": "python",
   "nbconvert_exporter": "python",
   "pygments_lexer": "ipython3",
   "version": "3.8.3"
  }
 },
 "nbformat": 4,
 "nbformat_minor": 5
}
